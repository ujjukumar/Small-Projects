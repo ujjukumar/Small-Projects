{
 "metadata": {
  "language_info": {
   "codemirror_mode": {
    "name": "ipython",
    "version": 3
   },
   "file_extension": ".py",
   "mimetype": "text/x-python",
   "name": "python",
   "nbconvert_exporter": "python",
   "pygments_lexer": "ipython3",
   "version": "3.7.9-final"
  },
  "orig_nbformat": 2,
  "kernelspec": {
   "name": "Python 3.7.9 64-bit ('caffe': conda)",
   "display_name": "Python 3.7.9 64-bit ('caffe': conda)",
   "metadata": {
    "interpreter": {
     "hash": "227d02aba6ce169f04a8260f6cd2afd11c06ac85405abbcafe9906d52a5d3dc8"
    }
   }
  }
 },
 "nbformat": 4,
 "nbformat_minor": 2,
 "cells": [
  {
   "cell_type": "code",
   "execution_count": 3,
   "metadata": {},
   "outputs": [],
   "source": [
    "# Importing libraries \n",
    "import requests \n",
    "from bs4 import BeautifulSoup as bs\n",
    "from tabulate import tabulate\n",
    "import numpy as np \n",
    "import matplotlib.pyplot as plt\n",
    "from datetime import datetime"
   ]
  },
  {
   "cell_type": "code",
   "execution_count": 26,
   "metadata": {},
   "outputs": [],
   "source": [
    "\t# Fecthing the data from government site\n",
    "\textract_contents = lambda row: [x.text.replace('\\n', '') for x in row] \n",
    "\tURL = 'https://www.mohfw.gov.in'\n",
    "\n",
    "\tresponse = requests.get(URL).content \n",
    "\tsoup = BeautifulSoup(response, 'html.parser')\n",
    "\n",
    "\tallStatesList = [] \n",
    "\tall_rows = soup.find_all('table') \n",
    "\n",
    "\tfor row in all_rows: \n",
    "\t\tstateList = extract_contents(row.find_all('td')) \n",
    "\t\tif stateList: \n",
    "\t\t\tif len(stateList) == 5: \n",
    "\t\t\t\tallStatesList.append(stateList)"
   ]
  },
  {
   "cell_type": "code",
   "execution_count": 79,
   "metadata": {},
   "outputs": [],
   "source": []
  },
  {
   "cell_type": "code",
   "execution_count": 4,
   "metadata": {},
   "outputs": [],
   "source": [
    "url = 'https://www.mohfw.gov.in'"
   ]
  },
  {
   "cell_type": "code",
   "execution_count": 5,
   "metadata": {},
   "outputs": [],
   "source": [
    "r = requests.get(url)"
   ]
  },
  {
   "cell_type": "code",
   "execution_count": 6,
   "metadata": {},
   "outputs": [],
   "source": [
    "soup = bs(r.content)"
   ]
  },
  {
   "cell_type": "code",
   "execution_count": 11,
   "metadata": {},
   "outputs": [],
   "source": [
    "content_table = soup.find_all(\"div\")"
   ]
  },
  {
   "cell_type": "code",
   "execution_count": 27,
   "metadata": {},
   "outputs": [],
   "source": [
    "soup.find(\"tbody\")"
   ]
  },
  {
   "cell_type": "code",
   "execution_count": 93,
   "metadata": {},
   "outputs": [],
   "source": [
    "all_rows = str(content_table).split(\"\\n\")"
   ]
  },
  {
   "cell_type": "code",
   "execution_count": 36,
   "metadata": {},
   "outputs": [],
   "source": [
    "a = str(r.content)"
   ]
  },
  {
   "cell_type": "code",
   "execution_count": 62,
   "metadata": {},
   "outputs": [],
   "source": [
    "b = a.split(\"table\")"
   ]
  },
  {
   "cell_type": "code",
   "execution_count": 63,
   "metadata": {},
   "outputs": [
    {
     "output_type": "execute_result",
     "data": {
      "text/plain": [
       "25"
      ]
     },
     "metadata": {},
     "execution_count": 63
    }
   ],
   "source": [
    "len(b)"
   ]
  },
  {
   "cell_type": "code",
   "execution_count": 70,
   "metadata": {},
   "outputs": [
    {
     "output_type": "execute_result",
     "data": {
      "text/plain": [
       "pdf\" target=\"_BLANK\">2. &nbsp;Community leaflet  </a></li> \\\\n\\\\t\\\\t<li><a  href=\"https://www.mohfw.gov.in/pdf/Poster1GHFandDH.pdf\" target=\"_BLANK\">3.&nbsp; What is Novel Coronavirus?</a></li>\\\\n\\\\t\\\\t<li><a  href=\"https://www.mohfw.gov.in/pdf/Poster2.pdf\" target=\"_BLANK\">4.&nbsp;Is your Healthcare facility ready to manage patients with COVID-19?  </a></li>\\\\n\\\\t\\\\t<li>  <a  href=\"https://www.mohfw.gov.in/pdf/Poster3.pdf\" target=\"_BLANK\">5.&nbsp;How to protect all health workers at designated hospital? </a></li>\\\\n\\\\t\\\\t<li>  <a  href=\"https://www.mohfw.gov.in/pdf/Poster4.pdf\" target=\"_BLANK\">6.&nbsp;What are my moments of hand hygiene? </a></li>\\\\n\\\\t\\\\t<li>  <a  href=\"https://www.mohfw.gov.in/pdf/Poster5DH.pdf\" target=\"_BLANK\">7.&nbsp;How to manage Suspected or confirmed COVID-19 patients at designated hospital? </a></li>\\\\n\\\\t\\\\t<li>  <a  href=\"https://www.mohfw.gov.in/pdf/Guidelinebook1mb.pdf\" target=\"_BLANK\">8.&nbsp;Guidelines on the use of materials </a></li>\\\\n\\\\t</ul>\\\\n\\\\t<li><span>28.03.2020</span>COVID-19 Frontline Worker Toolkit in Englsih</li>\\\\n\\\\t<ul>\\\\n\\\\t\\\\t<li><a  href=\"https://www.mohfw.gov.in/pdf/FacilitatorGuideCOVID19_27 March.pdf\" target=\"_BLANK\">1. &nbsp;Facilitator Guide  </a></li>\\\\n\\\\t\\\\t<li><a  href=\"https://www.mohfw.gov.in/pdf/2COVID19PPT_25MarchPPTWithAnimation.pdf\" target=\"_BLANK\">2. &nbsp;PPT with seven sessions including for Urban  </a></li> \\\\n\\\\t\\\\t<li><a  href=\"https://www.mohfw.gov.in/pdf/3Pocketbookof5_Covid19_27March.pdf\" target=\"_BLANK\">3.&nbsp; A digital pocket book for front line workers</a></li>\\\\n\\\\t\\\\t<li><a  href=\"https://www.mohfw.gov.in/pdf/4FLWToolkitHowtousethetoolkit.pdf\" target=\"_BLANK\">4.&nbsp;Training Protocols and guidelines  </a></li>\\\\n\\\\t\\\\t<li>  <a  href=\"https://www.mohfw.gov.in/pdf/5COVIDFLWTrainingPlan27March.pdf\" target=\"_BLANK\">5.&nbsp;Training Plan template </a></li>\\\\n\\\\t</ul>\\\\n\\\\t<li><span>28.03.2020</span><a href=\"https://www.mohfw.gov.in/pdf/FINAL_14_03_2020_ENg.pdf\" target=\"_BLANK\">When to get tested for COVID-19 English </a></li>\\\\n\\\\t<li><span>28.03.2020</span><a href=\"https://www.mohfw.gov.in/pdf/FINAL_14_03_2020_Hindi.pdf\" target=\"_BLANK\">When to get tested for COVID-19 Hindi </a></li>\\\\n\\\\t<li><span>25.03.2020</span><a  href=\"https://www.mohfw.gov.in/pdf/PreventionandManagementofCOVID19FLWEnglish.pdf\" target=\"_BLANK\">Role of Frontline Workers in Prevention and Management of CORONA VIRUS- English </a></li>\\\\n\\\\t<li><span>25.03.2020</span><a  href=\"https://www.mohfw.gov.in/pdf/PreventionandManagementofCOVID19FLWHindi.pdf\" target=\"_BLANK\"> Role of Frontline Workers in Prevention and Management of CORONA VIRUS - Hindi </a></li>\\\\n\\\\t<li><span>23.03.2020</span><a  href=\"https://www.mohfw.gov.in/pdf/ProtectivemeasuresEng.pdf\" target=\"_BLANK\">Posters for Safety measures against COVID-19 - English </a></li>\\\\n\\\\t<li><span>23.03.2020</span><a  href=\"https://www.mohfw.gov.in/pdf/ProtectivemeasuresHin.pdf\" target=\"_BLANK\"> Posters for Safety measures against COVID-19 - Hindi </a></li>\\\\n\\\\t<li><span>22.03.2020</span> <a href=\"https://www.mohfw.gov.in/pdf/CoronaComic2PGIPU22Mar20.pdf\" target=\"_BLANK\">KIDS, VAAYU & CORONA : Comic book for children to provide correct information about COVID-19 - Part 2</a></li>\\\\n\\\\t<li><span>19.03.2020</span> <a href=\"https://www.mohfw.gov.in/pdf/PostrerEnglishtraveller.pdf\" target=\"_BLANK\">Posters for Indians traveling from abroad - English  </a></li>\\\\n\\\\t<li><span>19.03.2020</span><a href=\"https://www.mohfw.gov.in/pdf/PosterTravellerHindi.pdf\" target=\"_BLANK\">Posters for Indians traveling from abroad - Hindi </a></li>\\\\n\\\\t<!--<li><span>17.03.2020</span><a href=\"https://www.mohfw.gov.in/pdf/Mask-Eng.pdf\" target=\"_BLANK\">When to wear mask?: English </a></li>\\\\n\\\\t<li><span>17.03.2020</span><a href=\"https://www.mohfw.gov.in/pdf/Mask-Hindi.pdf\" target=\"_BLANK\">When to wear mask?: Hindi </a></li>-->\\\\n\\\\t<li> <span>09.03.2020</span><a href=\"https://www.mohfw.gov.in/pdf/Corona_comic_PGI.pdf\" target=\"_BLANK\">KIDS, VAAYU & CORONA : Comic book for children to provide correct information about COVID-19</a></li>\\\\n\\\\t<li><span>06.03.2020</span><a href=\"https://www.mohfw.gov.in/pdf/Poster_Corona_ad_Eng.pdf\" target=\"_BLANK\">Do\\\\\\'s and Don\\\\\\'t Poster in English </a></li>\\\\n\\\\t<li><span>06.03.2020</span><a href=\"https://www.mohfw.gov.in/pdf/Poster_Corona_ad_Hin.pdf\" target=\"_BLANK\">Do\\\\\\'s and Don\\\\\\'t Poster in Hindi </a></li>\\\\n\\\\t<li><span>06.03.2020</span><a href=\"https://www.youtube.com/playlist?list=PL1a9DHjZmejE-Ep2PAu2OR8HBfLP0BLIk\" target=\"_BLANK\">Watch all COVID-19 management videos here </a></li>\\\\n\\\\t<li><span>06.03.2020</span><a  href=\"https://drive.google.com/drive/folders/1wvEmLyv3w3gUMpJP5VhgZgXruuusRpJS\" target=\"_BLANK\">TV and Radio Spots (English & Hindi) for COVID-19</a></li>\\\\n\\\\t\\\\n</ul>\\\\n</div>                                        \\\\n</div>\\\\n\\\\n<!--awareness-->\\\\t\\\\n<div class=\"panes\">\\\\n<div class=\"tab-content\">\\\\n<ul>\\\\n<li><span>12.05.2020</span><a  href=\"https://www.mohfw.gov.in/pdf/PosterInternationalNurseDay2020.pdf\" target=\"_BLANK\">Poster for Felicitating our Nurses and Midwives on International Nurses day 2020 </a></li>\\\\n<li><span>12.05.2020</span><a  href=\"https://youtu.be/HmPneP8XeLs\" target=\"_BLANK\">Felicitating our Nurses and Midwives on International Nurses day 2020 (Video) </a></li>\\\\n<li><span>22.04.2020</span><a  href=\"https://youtu.be/7Oei4aI_1j8\" target=\"_BLANK\">Musical tribute to Healthcare Service Personnel</a></li>\\\\n\\\\n<li><span>22.04.2020</span><a  href=\"https://youtu.be/yJZ06JsREW4\" target=\"_BLANK\">Doctors of AIIMS, New Delhi addressing the Stigma around COVID-19</a></li>\\\\n<li><span>21.04.2020</span><a  href=\"https://twitter.com/MoHFW_INDIA/status/1252514576480063489/photo/1\" target=\"_BLANK\">Thank you healthcare workers (Hindi)  </a></li>\\\\n<li><span>20.04.2020</span><a  href=\"https://twitter.com/MoHFW_INDIA/status/1252075744454467586\" target=\"_BLANK\">Support to healthcare workers  </a></li>\\\\n<li><span>19.04.2020</span><a  href=\"https://twitter.com/MoHFW_INDIA/status/1251729616932188160\" target=\"_BLANK\">Not to discriminate against service providers   </a></li>\\\\n<li><span>19.04.2020</span><a  href=\"https://twitter.com/MoHFW_INDIA/status/1251764434302795776\" target=\"_BLANK\">Stigmatization against Covid Warriors (Hindi)   </a></li>\\\\n<li><span>18.04.2020</span><a  href=\"https://twitter.com/MoHFW_INDIA/status/1251352572851441665\" target=\"_BLANK\">Gratitude towards health care providers   </a></li>\\\\n<li><span>17.04.2020</span><a  href=\"https://twitter.com/MoHFW_INDIA/status/1251065002770837505/photo/1\" target=\"_BLANK\">Gratitude towards health care providers - Hindi  </a></li>\\\\n<li><span>17.04.2020</span><a  href=\"https://twitter.com/MoHFW_INDIA/status/1251014601023426560/photo/1\" target=\"_BLANK\">Break the stigma  </a></li>\\\\n<li><span>16.04.2020</span><a  href=\"https://business.facebook.com/MoHFWIndia/photos/a.359124487580298/1488472204645515/?type=3&theater\" target=\"_BLANK\">Break the stigma \\\\xe2\\\\x80\\\\x93 Hindi  </a></li>\\\\n<li><span>16.04.2020</span><a  href=\"https://twitter.com/MoHFW_INDIA/status/1250670872450551810/photo/1\" target=\"_BLANK\">Break the Stigma (Do\\\\xe2\\\\x80\\\\x99s and Don\\\\xe2\\\\x80\\\\x99ts)  </a></li>\\\\n<li><span>16.04.2020</span><a  href=\"https://twitter.com/MoHFW_INDIA/status/1250677663770898432/photo/1\" target=\"_BLANK\">Break the Stigma (Do\\\\xe2\\\\x80\\\\x99s and Don\\\\xe2\\\\x80\\\\x99ts) Hindi </a></li>\\\\n<li><span>15.04.2020</span><a  href=\"https://business.facebook.com/MoHFWIndia/photos/a.359124487580298/1486774838148585/?type=3&theater\" target=\"_BLANK\">Thank you healthcare workers </a></li>\\\\n\\\\n<li><span>10.04.2020</span><a  href=\"https://youtu.be/ca0gl2C3SVI\" target=\"_BLANK\">Video on Addressing Social Stigma Associated with COVID-19 (Hindi)</a></li>\\\\n<li><span>08.04.2020</span><a  href=\"https://youtu.be/yJZ06JsREW4\" target=\"_BLANK\">Video on Addressing Social Stigma Associated with COVID-19 Englsih</a></li>\\\\n<!--<li><span>08.04.2020</span><a  href=\"https://www.youtube.com/watch?v=xMWe4UnykWc#action=share\" target=\"_BLANK\">Salute to all Corona Warriors at the front line of COVID-19 response</a></li>-->\\\\n<li><span>29.03.2020</span><a  href=\"https://business.facebook.com/MoHFWIndia/photos/a.359124487580298/1472842286208507/?type=3&theater\" target=\"_BLANK\">Coronavirus doesn\\\\xe2\\\\x80\\\\x99t discriminate, why should we? </a></li>\\\\n<li><span>27.03.2020</span><a  href=\"https://youtu.be/h84ZGdB8JKI\" target=\"_BLANK\">Our fight is against COVID19, not each other! Together we will fight COVID19</a></li>\\\\n<li><span>21.03.2020</span><a  href=\"https://youtu.be/7Oei4aI_1j8\" target=\"_BLANK\">Musical tribute to our healthcare workers by AIIMS New Delhi</a></li>\\\\n\\\\n</ul>\\\\n</div>                                        \\\\n</div>\\\\t\\\\t\\\\t\\\\t\\\\t\\\\t\\\\t\\\\t\\\\n</div>\\\\n</div>\\\\n</div>\\\\n</div>\\\\n</div>\\\\n</section>\\\\n\\\\n        <section id=\"site-awareness\" class=\"site-update\">\\\\n            <div class=\"container\">\\\\n                <div class=\"row\">\\\\n                    <div class=\"col-xs-12\">\\\\n                        <div class=\"isotope-container\">\\\\n                            <div class=\"category-nav\">\\\\n                                <h3>Awareness</h3>\\\\n                                <ul id=\"filters\">\\\\n                                    <li class=\"active\"><a data-filter=\".english\" href=\"#\">English</a></li>\\\\n                                    <li><a data-filter=\".hindi\" href=\"#\">Hindi</a></li>\\\\n                                </ul>               \\\\n                            </div>\\\\n                            <div class=\"isotope clearfix\">\\\\n                                <div class=\"grid element-item english\">\\\\n                                    <div class=\"content-box\">\\\\n                                        <figure>\\\\n                                            <a href=\"https://www.mohfw.gov.in/pdf/socialdistancingEnglish.pdf\" target=\"_blank\">\\\\n                                                <img src=\"assets/images/socialdistancingEnglish_page-0001.png\" alt=\"Poster on Social distancing in a market place during COVID-19 English\">\\\\n                                            </a>\\\\n                                            </a>\\\\n                                        </figure>\\\\n                                    </div>\\\\n                                </div>\\\\n                                <div class=\"grid element-item hindi\">\\\\n                                    <div class=\"content-box\">\\\\n                                        <figure>\\\\n                                            <a href=\"https://www.mohfw.gov.in/pdf/socialdistancingHindi.pdf\" target=\"_blank\">\\\\n                                                <img src=\"assets/images/socialdistancingHindi_page-0001.png\" alt=\"Poster on Social distancing in a market place during COVID-19 Hindi\">\\\\n                                            </a>\\\\n                                        </figure>\\\\n                                    </div>\\\\n                                </div>\\\\n                                <div class=\"grid element-item english\">\\\\n                                    <div class=\"content-box\">\\\\n                                        <figure>\\\\n                                            <a href=\"https://www.mohfw.gov.in/pdf/FINAL_14_03_2020_ENg.pdf\" target=\"_blank\">\\\\n                                                <img src=\"assets/images/FINAL_14_03_2020_ENg_page-0001.png\" alt=\"When to get tested for COVID-19 English\">\\\\n                                            </a>\\\\n                                        </figure>\\\\n                                    </div>\\\\n                                </div>\\\\n                                <div class=\"grid element-item hindi\">\\\\n                                    <div class=\"content-box\">\\\\n                                        <figure>\\\\n                                            <a href=\"https://www.mohfw.gov.in/pdf/FINAL_14_03_2020_Hindi.pdf\" target=\"_blank\">\\\\n                                                <img src=\"assets/images/FINAL_14_03_2020_Hindi_page-0001.png\" alt=\"When to get tested for COVID-19 Hindi\">\\\\n                                            </a>\\\\n                                        </figure>\\\\n                                    </div>\\\\n                                </div>\\\\n                                <div class=\"grid element-item english\">\\\\n                                    <div class=\"content-box\">\\\\n                                        <figure>\\\\n                                            <a href=\"https://www.mohfw.gov.in/pdf/ProtectivemeasuresEng.pdf\" target=\"_blank\">\\\\n                                                <img src=\"assets/images/ProtectivemeasuresEng_page-0001.png\" alt=\"Posters for Safety measures against COVID-19 - English\">\\\\n                                            </a>\\\\n                                        </figure>\\\\n                                    </div>\\\\n                                </div>\\\\n\\\\t\\\\t\\\\t\\\\t\\\\t\\\\t\\\\t\\\\t<div class=\"grid element-item hindi\">\\\\n                                    <div class=\"content-box\">\\\\n                                        <figure>\\\\n                                            <a href=\"https://www.mohfw.gov.in/pdf/ProtectivemeasuresHin.pdf\" target=\"_blank\">\\\\n                                                <img src=\"assets/images/ProtectivemeasuresHin_page-0001.png\" alt=\"Posters for Safety measures against COVID-19 - Hindi\">\\\\n                                            </a>\\\\n                                        </figure>\\\\n                                    </div>\\\\n                                </div>\\\\n                                <div class=\"grid element-item english\">\\\\n                                    <div class=\"content-box\">\\\\n                                        <figure>\\\\n                                            <a href=\"https://www.mohfw.gov.in/pdf/PostrerEnglishtraveller.pdf\" target=\"_blank\">\\\\n                                                <img src=\"assets/images/PostrerEnglishtraveller_page-0001.png\" alt=\"Posters for Indians traveling from abroad - English\">\\\\n                                            </a>\\\\n                                        </figure>\\\\n                                    </div>\\\\n                                </div>\\\\n\\\\t\\\\t\\\\t\\\\t\\\\t\\\\t\\\\t\\\\t<div class=\"grid element-item hindi\">\\\\n                                    <div class=\"content-box\">\\\\n                                        <figure>\\\\n                                            <a href=\"https://www.mohfw.gov.in/pdf/PosterTravellerHindi.pdf\" target=\"_blank\">\\\\n                                                <img src=\"assets/images/PosterTravellerHindi_page-0001.png\" alt=\"Posters for Indians traveling from abroad - Hindi\">\\\\n                                            </a>\\\\n                                        </figure>\\\\n                                    </div>\\\\n                                </div>\\\\n                                <!--<div class=\"grid element-item english\">\\\\n                                    <div class=\"content-box\">\\\\n                                        <figure>\\\\n                                            <a href=\"https://www.mohfw.gov.in/pdf/Mask-Eng.pdf\" target=\"_blank\">\\\\n                                                <img src=\"assets/images/Mask-Eng_page-0001.png\" alt=\"When to wear mask?: English\">\\\\n                                            </a>\\\\n                                        </figure>\\\\n                                    </div>\\\\n                                </div>\\\\n\\\\t\\\\t\\\\t\\\\t\\\\t\\\\t\\\\t\\\\t<div class=\"grid element-item hindi\">\\\\n                                    <div class=\"content-box\">\\\\n                                        <figure>\\\\n                                            <a href=\"https://www.mohfw.gov.in/pdf/Mask-Hindi.pdf\" target=\"_blank\">\\\\n                                                <img src=\"assets/images/Mask-Hindi_page-0001.png\" alt=\"When to wear mask?: Hindi\">\\\\n                                            </a>\\\\n                                        </figure>\\\\n                                    </div>\\\\n                                </div>-->\\\\n\\\\t\\\\t\\\\t\\\\t\\\\t\\\\t\\\\t\\\\t<div class=\"grid element-item english\">\\\\n                                    <div class=\"content-box\">\\\\n                                        <figure>\\\\n                                            <a href=\"https://www.mohfw.gov.in/pdf/Poster_Corona_ad_Eng.pdf\" target=\"_blank\">\\\\n                                                <img src=\"assets/images/Poster_Corona_ad_Eng_page-0001.png\" alt=\"Do\\\\\\'s and Don\\\\\\'t Poster in English\">\\\\n                                            </a>\\\\n                                        </figure>\\\\n                                    </div>\\\\n                                </div>\\\\n\\\\t\\\\t\\\\t\\\\t\\\\t\\\\t\\\\t\\\\t<div class=\"grid element-item hindi\">\\\\n                                    <div class=\"content-box\">\\\\n                                        <figure>\\\\n                                            <a href=\"https://www.mohfw.gov.in/pdf/Poster_Corona_ad_Hin.pdf\" target=\"_blank\">\\\\n                                                <img src=\"assets/images/Poster_Corona_ad_Hin_page-0001.png\" alt=\"Do\\\\\\'s and Don\\\\\\'t Poster in English\">\\\\n                                            </a>\\\\n                                        </figure>\\\\n                                    </div>\\\\n                                </div>\\\\n                            </div>\\\\n                        </div>\\\\n                    </div>\\\\n                </div>\\\\n            </div>\\\\n        </section>\\\\n\\\\n<section id=\"site-faq\" class=\"site-update\">\\\\n<div class=\"container\">\\\\n<div class=\"row\">\\\\n<div class=\"col-xs-12\">\\\\n<div class=\"site-faq\">\\\\n<h3>FAQs</h3>\\\\n<div class=\"faq-content\">\\\\n<embed src=\"https://www.mohfw.gov.in/pdf/FAQ.pdf\" type=\"application/pdf\" width=\"100%\" height=\"600px\" class=\"mob-hide\">\\\\n<a class=\"btn-faq mob-show\" href=\"https://www.mohfw.gov.in/pdf/FAQ.pdf \" target=\"_blank\" class=\"mob-show\">Click to see the FAQ pdf</a>\\\\n</div>\\\\n</div>\\\\n</div>\\\\n</div>\\\\n</div>\\\\n</section>\\\\n\\\\n</div>\\\\n\\\\n<footer class=\"footer-section\">\\\\n<div class=\"container\">\\\\n<div class=\"row\">\\\\n<div class=\"col-xs-12\">\\\\n<div class=\"footer-content\">\\\\n<div class=\"site-copyright\">\\\\n<strong>Disclaimer :</strong> <br>\\\\nWebsite content managed by <a href=\"#\" target=\"_blank\">Ministry of Health and Family Welfare</a>, <a href=\"#\" target=\"_blank\">GOI</a>\\\\nDesign, Developed and Hosted by <a href=\"https://www.nic.in/\" target=\"_blank\">National Informatics Centre (NIC)</a>\\\\n</div>\\\\n</div>\\\\n</div>\\\\n</div>\\\\n</div>\\\\n<a class=\"top\" href=\"#top\"><i class=\"fa fa-chevron-up\" aria-hidden=\"true\"></i></a>\\\\n</footer>\\\\n</div>\\\\n</div>\\\\n<script type=\"text/javascript\">\\\\n  \\\\n  $(function() {\\\\n\\\\n  // the input field\\\\n  var $input = $(\"input[type=\\\\\\'search\\\\\\']\"),\\\\n    // clear button\\\\n    $clearBtn = $(\"button[data-search=\\\\\\'clear\\\\\\']\"),\\\\n    // prev button\\\\n    $prevBtn = $(\"button[data-search=\\\\\\'prev\\\\\\']\"),\\\\n    // next button\\\\n    $nextBtn = $(\"button[data-search=\\\\\\'next\\\\\\']\"),\\\\n    // the context where to search\\\\n    $content = $(\".content\"),\\\\n    // jQuery object to save <mark> elements\\\\n    $results,\\\\n    // the class that will be appended to the current\\\\n    // focused element\\\\n    currentClass = \"current\",\\\\n    // top offset for the jump (the search bar)\\\\n    offsetTop = 200,\\\\n    // the current index of the focused element\\\\n    currentIndex = 0;\\\\n\\\\n  /**\\\\n   * Jumps to the element matching the currentIndex\\\\n   */\\\\n  function jumpTo() {\\\\n    if ($results.length) {\\\\n      var position,\\\\n        $current = $results.eq(currentIndex);\\\\n      $results.removeClass(currentClass);\\\\n      if ($current.length) {\\\\n        $current.addClass(currentClass);\\\\n        var parent = $current.closest(\\\\\\''"
      ]
     },
     "metadata": {},
     "execution_count": 70
    }
   ],
   "source": [
    "b[20]"
   ]
  },
  {
   "cell_type": "code",
   "execution_count": null,
   "metadata": {},
   "outputs": [],
   "source": []
  }
 ]
}