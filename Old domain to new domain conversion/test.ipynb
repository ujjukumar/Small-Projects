{
 "nbformat": 4,
 "nbformat_minor": 2,
 "metadata": {
  "language_info": {
   "name": "python",
   "codemirror_mode": {
    "name": "ipython",
    "version": 3
   },
   "version": "3.7.4-final"
  },
  "orig_nbformat": 2,
  "file_extension": ".py",
  "mimetype": "text/x-python",
  "name": "python",
  "npconvert_exporter": "python",
  "pygments_lexer": "ipython3",
  "version": 3,
  "kernelspec": {
   "name": "caffe",
   "display_name": "caffe"
  }
 },
 "cells": [
  {
   "cell_type": "code",
   "execution_count": 4,
   "metadata": {},
   "outputs": [],
   "source": [
    "import re\n",
    "import csv"
   ]
  },
  {
   "cell_type": "code",
   "execution_count": 5,
   "metadata": {},
   "outputs": [],
   "source": [
    "def contains_domain(address, domain):\n",
    "    \"\"\"Returns True if the email address contains the given,domain,in the domain position, false if not.\"\"\"\n",
    "    domain = r'[\\w\\.-]+@'+domain+'$'\n",
    "    if re.match(domain,address):\n",
    "        return True\n",
    "    return False"
   ]
  },
  {
   "cell_type": "code",
   "execution_count": 6,
   "metadata": {},
   "outputs": [],
   "source": [
    "def replace_domain(address, old_domain, new_domain):\n",
    "    \"\"\"Replaces the old domain with the new domain in the received address.\"\"\"\n",
    "    old_domain_pattern = r'' + old_domain + '$'\n",
    "    address = re.sub(old_domain_pattern, new_domain, address)\n",
    "    return address"
   ]
  },
  {
   "cell_type": "code",
   "execution_count": 9,
   "metadata": {},
   "outputs": [],
   "source": [
    "\"\"\"Processes the list of emails, replacing any instances of the old domain with the new domain.\"\"\"\n",
    "old_domain, new_domain = 'abc.edu', 'xyz.edu'\n",
    "csv_file_location = \"user_emails.csv\"\n",
    "report_file = \"updated_user_emails.csv\"\n",
    "\n",
    "user_email_list = []\n",
    "old_domain_email_list = []\n",
    "new_domain_email_list = []\n",
    "\n",
    "with open(csv_file_location, 'r') as f:\n",
    "    user_data_list = list(csv.reader(f))\n",
    "    user_email_list = [data[1].strip() for data in user_data_list[1:]]\n",
    "\n",
    "for email_address in user_email_list:\n",
    "    if contains_domain(email_address, old_domain):\n",
    "        old_domain_email_list.append(email_address)\n",
    "        replaced_email = replace_domain(email_address,old_domain,new_domain)\n",
    "        new_domain_email_list.append(replaced_email)\n",
    "\n",
    "email_key = ' ' + 'Email Address'\n",
    "email_index = user_data_list[0].index(email_key)\n",
    "\n",
    "for user in user_data_list[1:]:\n",
    "    for old_domain, new_domain in zip(old_domain_email_list, new_domain_email_list):\n",
    "        if user[email_index] == ' ' + old_domain:\n",
    "            user[email_index] = ' ' + new_domain\n",
    "\n",
    "user_data_list = [[name.strip(), email.strip()] for name, email in user_data_list]\n",
    "\n",
    "with open(report_file, 'w+') as output_file:\n",
    "    writer = csv.writer(output_file)\n",
    "    writer.writerows(user_data_list)"
   ]
  },
  {
   "cell_type": "code",
   "execution_count": 8,
   "metadata": {},
   "outputs": [
    {
     "output_type": "execute_result",
     "data": {
      "text/plain": "[['Full Name', ' Email Address'],\n ['Blossom Gill', ' blossom@xyz.edu'],\n ['Hayes Delgado', ' nonummy@utnisia.com'],\n ['Petra Jones', ' ac@xyz.edu'],\n ['Oleg Noel', ' noel@liberomauris.ca'],\n ['Ahmed Miller', ' ahmed.miller@nequenonquam.co.uk'],\n ['Macaulay Douglas', ' mdouglas@xyz.edu'],\n ['Aurora Grant', ' enim.non@xyz.edu'],\n ['Madison Mcintosh', ' mcintosh@nisiaenean.net'],\n ['Montana Powell', ' montanap@semmagna.org'],\n ['Rogan Robinson', ' rr.robinson@xyz.edu'],\n ['Simon Rivera', ' sri@xyz.edu'],\n ['Benedict Pacheco', ' bpacheco@xyz.edu'],\n ['Maisie Hendrix', ' mai.hendrix@xyz.edu'],\n ['Xaviera Gould', ' xlg@utnisia.net'],\n ['Oren Rollins', ' oren@semmagna.com'],\n ['Flavia Santiago', ' flavia@utnisia.net'],\n ['Jackson Owens', ' jackowens@xyz.edu'],\n ['Britanni Humphrey', ' britanni@ut.net'],\n ['Kirk Nixon', ' kirknixon@xyz.edu'],\n ['Bree Campbell', ' breee@utnisia.net']]"
     },
     "metadata": {},
     "execution_count": 8
    }
   ],
   "source": []
  },
  {
   "cell_type": "code",
   "execution_count": 2,
   "metadata": {},
   "outputs": [],
   "source": [
    "data = [['Full Name', ' Email Address'],\n",
    "        ['Blossom Gill', ' blossom@xyz.edu'],\n",
    "        ['Hayes Delgado', ' nonummy@utnisia.com'],\n",
    "        ['Petra Jones', ' ac@xyz.edu'],\n",
    "        ['Oleg Noel', ' noel@liberomauris.ca'],\n",
    "        ['Ahmed Miller', ' ahmed.miller@nequenonquam.co.uk'],\n",
    "        ['Macaulay Douglas', ' mdouglas@xyz.edu']]\n",
    "\n",
    "new_data = [[name.strip(), email.strip()] for name, email in data]"
   ]
  },
  {
   "cell_type": "code",
   "execution_count": 3,
   "metadata": {},
   "outputs": [
    {
     "output_type": "execute_result",
     "data": {
      "text/plain": "[['Full Name', 'Email Address'],\n ['Blossom Gill', 'blossom@xyz.edu'],\n ['Hayes Delgado', 'nonummy@utnisia.com'],\n ['Petra Jones', 'ac@xyz.edu'],\n ['Oleg Noel', 'noel@liberomauris.ca'],\n ['Ahmed Miller', 'ahmed.miller@nequenonquam.co.uk'],\n ['Macaulay Douglas', 'mdouglas@xyz.edu']]"
     },
     "metadata": {},
     "execution_count": 3
    }
   ],
   "source": [
    "new_data"
   ]
  },
  {
   "cell_type": "code",
   "execution_count": null,
   "metadata": {},
   "outputs": [],
   "source": []
  }
 ]
}